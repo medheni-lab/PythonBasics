{
 "cells": [
  {
   "cell_type": "code",
   "execution_count": null,
   "id": "a2034864-78bd-4474-99cc-e7d9e322a067",
   "metadata": {},
   "outputs": [],
   "source": [
    "\"\"\"\"\n",
    "****** Python Basics: Theory questions*******\n",
    "\n",
    "1.What is Python, and why is it popular?\n",
    "Answer: Python is a high-level, interpreted programming language known for its simplicity, readability, and versatility. It was created by Guido van Rossum and first released in 1991. Python's syntax closely resembles human language, which makes it easier to learn and use compared to many other programming languages.\n",
    "Reasons for its popularity are:\n",
    "*Ease of Learning and use\n",
    "*Versatility\n",
    "*Large Ecosystem of Libraries\n",
    "*Open source and community support\n",
    "*Cross-platform compatibility\n",
    "*Clear and Readable Code\n",
    "\n",
    "2. What is an interpreter in Python?\n",
    "Answer:An interpreter is a program that directly executes instructions written in a programming language, line by line. In Python interpreter takes the code we write and the executes it immediately. It executes code one statement at a time.\n",
    "\n",
    "3.What are pre-defined keywords in Python?\n",
    "Answer: Pre-defined keywords in Python are reserved words that have special meanings and cannot be used as identifiers (such as variable name or function names). \n",
    "Examples: if, else, while, def, return, etc.,\n",
    "\n",
    "4.Can keywords be used as variable names?\n",
    "Answer: No, keywords in Python cannot be used as variable names. Since keywords have specific meanings in language, If we use keywords as variables then it throws an error.\n",
    "\n",
    "5.What is mutability in Python?\n",
    "Answer:Mutability in Python refers to the ability of an object to be modified after it is created. Mutable objects can have their values changed, while immutable objects cannot. Lists, dictionaries, and sets are mutable, whereas strings, tuples, and integers are immutable.\n",
    "\n",
    "6.Why are lists mutable, but tuples are immutable?\n",
    "Answer:Lists are mutable because they are designed to allow modification of their elements, providing flexibility when the data needs to be changed. Tuples are immutable because they are intended to represent fixed collections of items that should not be changed. The immutability of tuples provides performance benefits and safety in concurrent programs.\n",
    "\n",
    "7.What is the difference between “==” and “is” operators in Python?\n",
    "Answer:The == operator checks if the values of two objects are equal, while the is operator checks if two objects refer to the same memory location (i.e., if they are the same object). In short, == compares values, and is compares identities (memory locations).\n",
    "\n",
    "8.What are logical operators in Python? \n",
    "Answer: Logical operators in Python are used to combine conditional statements. The main logical operators are:\n",
    "*and: Returns True if both operands are true.\n",
    "*or: Returns True if at least one operand is true.\n",
    "*not: Returns the inverse of the boolean value.\n",
    "9.What is type casting in Python? \n",
    "Answer:Type casting in Python refers to the conversion of one data type into another. For example, converting an integer to a float or a string to an integer. Python provides built-in functions like int(), float(), str(), and list() for type casting.\n",
    "\n",
    "10.What is the difference between implicit and explicit type casting?\n",
    "Anser:Implicit type casting: (also known as coercion) occurs automatically by Python when it converts one data type to another without the programmer’s intervention, usually when there is no risk of data loss (e.g., converting an integer to a float).\n",
    "Explicit type casting: requires the programmer to manually specify the conversion using functions like int(), float(), or str() (e.g., converting a string to an integer).\n",
    "\n",
    "11.What is the purpose of conditional statements in Python? \n",
    "Answer:Conditional statements in Python allow you to execute specific blocks of code based on certain conditions. These are used to control the flow of the program, making it possible to execute different code based on whether a condition is True or False.\n",
    "\n",
    "12.How does the elif statement work? \n",
    "Answer: The elif (short for \"else if\") statement in Python is used to check multiple conditions after the if statement. If the condition in the if statement is False, Python will check the conditions in the elif statements in order. If any of the conditions are True, the corresponding block of code will execute.\n",
    "\n",
    "13.What is the difference between for and while loops ?\n",
    "Answer:\n",
    "*The for loop in Python is used to iterate over a sequence (like a list, tuple, string, or range). It runs for a fixed number of iterations.\n",
    "*The while loop continues to execute as long as the given condition is True. It can run an indefinite number of times, and you need to ensure the condition eventually becomes False to stop the loop.\n",
    "14.Describe a scenario where a while loop is more suitable than a for loop?\n",
    "Answer:A while loop is more suitable when the number of iterations is not known in advance. For example, when waiting for user input or checking for a condition that depends on an external factor (like reading data from a file until it reaches the end), a while loop is ideal. In contrast, a for loop is more appropriate when the number of iterations is predetermined or based on a sequence.\n",
    "\"\"\"\"\n",
    "*********Practical Questions***********\n"
   ]
  },
  {
   "cell_type": "code",
   "execution_count": 1,
   "id": "529b19d1-18aa-4179-b1c8-fdac11ffc9c4",
   "metadata": {},
   "outputs": [
    {
     "name": "stdout",
     "output_type": "stream",
     "text": [
      " \"Hello, World!\" \n"
     ]
    }
   ],
   "source": [
    "#1. Write a Python program to print \"Hello, World!\"\n",
    "\n",
    "print(' \"Hello, World!\" ')"
   ]
  },
  {
   "cell_type": "code",
   "execution_count": 2,
   "id": "bcbb6788-1e49-42d2-b0d4-93d7ecd2723d",
   "metadata": {},
   "outputs": [
    {
     "name": "stdout",
     "output_type": "stream",
     "text": [
      "Name: Madhu\n",
      "Age: 25\n"
     ]
    }
   ],
   "source": [
    "# 2. Write a Python program that displays your name and age?\n",
    "\n",
    "name = \"Madhu\"\n",
    "age = 25\n",
    "print(\"Name:\", name)\n",
    "print(\"Age:\", age)"
   ]
  },
  {
   "cell_type": "code",
   "execution_count": 3,
   "id": "82fd268d-173b-4887-a7d7-34d88806ccd5",
   "metadata": {},
   "outputs": [
    {
     "name": "stdout",
     "output_type": "stream",
     "text": [
      "Python Keywords: ['False', 'None', 'True', 'and', 'as', 'assert', 'async', 'await', 'break', 'class', 'continue', 'def', 'del', 'elif', 'else', 'except', 'finally', 'for', 'from', 'global', 'if', 'import', 'in', 'is', 'lambda', 'nonlocal', 'not', 'or', 'pass', 'raise', 'return', 'try', 'while', 'with', 'yield']\n"
     ]
    }
   ],
   "source": [
    "# 3. Write code to print all the pre-defined keywords in Python using the keyword library?\n",
    "\n",
    "import keyword\n",
    "print(\"Python Keywords:\", keyword.kwlist) # kwlist is a list of all the reserved keywords in Python"
   ]
  },
  {
   "cell_type": "code",
   "execution_count": 4,
   "id": "b86537d0-2065-4b85-83b8-df9d85c31b6e",
   "metadata": {},
   "outputs": [
    {
     "name": "stdin",
     "output_type": "stream",
     "text": [
      "Enter a word to check if it's a Python keyword:  pass\n"
     ]
    },
    {
     "name": "stdout",
     "output_type": "stream",
     "text": [
      "'pass' is a Python keyword.\n"
     ]
    }
   ],
   "source": [
    "# 4. Write a program that checks if a given word is a Python keyword.\n",
    "\n",
    "word = input(\"Enter a word to check if it's a Python keyword: \")\n",
    "if word in keyword.kwlist:\n",
    "    print(f\"'{word}' is a Python keyword.\")        #input is a keyword\n",
    "else:\n",
    "    print(f\"'{word}' is NOT a Python keyword.\")    #input is not an keyword"
   ]
  },
  {
   "cell_type": "code",
   "execution_count": 5,
   "id": "5af22420-b52a-4c59-b312-4e4e2323166b",
   "metadata": {},
   "outputs": [
    {
     "name": "stdout",
     "output_type": "stream",
     "text": [
      "list [1, 2, 3]\n",
      "Modified list: [100, 2, 3]\n",
      "tuple (1, 2, 3)\n",
      "Modified tuple: (1, 2, 3)\n"
     ]
    }
   ],
   "source": [
    "# 5. Create a list and tuple in Python, and demonstrate how attempting to change an element works differently for each.\n",
    "\n",
    "list = [1, 2, 3]\n",
    "tuple = (1, 2, 3)\n",
    "\n",
    "print(\"list\", list)\n",
    "list[0] = 100                # List is mutable\n",
    "print(\"Modified list:\", list)\n",
    "\n",
    "print(\"tuple\", tuple)\n",
    "list[0] = 150                # Tuple is immutable\n",
    "print(\"Modified tuple:\", tuple) "
   ]
  },
  {
   "cell_type": "code",
   "execution_count": 29,
   "id": "7fc122f9-d8f6-49fe-a0ed-d8a3f85da1da",
   "metadata": {},
   "outputs": [
    {
     "name": "stdout",
     "output_type": "stream",
     "text": [
      "Inside function - List: [1, 2, 4, 5] Integer: 40\n",
      "Outside function - List: [1, 2, 4, 5] Integer: 25\n"
     ]
    }
   ],
   "source": [
    "# 6. Write a function to demonstrate the behavior of mutable and immutable arguments.\n",
    "\n",
    "def modify_data(mutable, immutable):\n",
    "    mutable.append(5)  \n",
    "    immutable += 15  \n",
    "    print(\"Inside function - List:\", mutable, \"Integer:\", immutable) # inside the function - mutable\n",
    "\n",
    "numbers = [1, 2, 4]\n",
    "num = 25\n",
    "modify_data(numbers, num)\n",
    "print(\"Outside function - List:\", numbers, \"Integer:\", num)  #outside the function - immutable\n"
   ]
  },
  {
   "cell_type": "code",
   "execution_count": 7,
   "id": "85377435-9dd9-4b15-900a-f6a709fa796d",
   "metadata": {},
   "outputs": [
    {
     "name": "stdin",
     "output_type": "stream",
     "text": [
      "Enter first number:  300\n",
      "Enter second number:  250\n"
     ]
    },
    {
     "name": "stdout",
     "output_type": "stream",
     "text": [
      "Sum: 550.0, Difference: 50.0, Product: 75000.0, Quotient: 1.2\n"
     ]
    }
   ],
   "source": [
    "# 7. Write a program that performs basic arithmetic operations on two user-input numbers.\n",
    "a = float(input(\"Enter first number: \"))\n",
    "b = float(input(\"Enter second number: \"))\n",
    "print(f\"Sum: {a + b}, Difference: {a - b}, Product: {a * b}, Quotient: {a / b if b != 0 else 'undefined'}\")\n"
   ]
  },
  {
   "cell_type": "code",
   "execution_count": 8,
   "id": "d06306d2-963b-4620-b137-94e02e8de97c",
   "metadata": {},
   "outputs": [
    {
     "name": "stdout",
     "output_type": "stream",
     "text": [
      "x and y: False\n",
      "x or y: True\n",
      "not x: False\n"
     ]
    }
   ],
   "source": [
    "# 8. Write a program to demonstrate the use of logical operators.\n",
    "x, y = True, False\n",
    "print(\"x and y:\", x and y)\n",
    "print(\"x or y:\", x or y)\n",
    "print(\"not x:\", not x)"
   ]
  },
  {
   "cell_type": "code",
   "execution_count": 21,
   "id": "9fb5987b-8541-41b2-b735-12e8b82d6613",
   "metadata": {},
   "outputs": [
    {
     "name": "stdin",
     "output_type": "stream",
     "text": [
      "Enter a value:  2560\n"
     ]
    },
    {
     "name": "stdout",
     "output_type": "stream",
     "text": [
      "As integer: 2560\n",
      "As float: 2560.0\n",
      "As boolean: True\n"
     ]
    }
   ],
   "source": [
    "# 9. Write a Python program to convert user input from string to integer, float, and boolean types.\n",
    "input = input(\"Enter a value: \")\n",
    "print(\"As integer:\", int(input))\n",
    "print(\"As float:\", float(input))\n",
    "print(\"As boolean:\", bool(input))"
   ]
  },
  {
   "cell_type": "code",
   "execution_count": 5,
   "id": "470bc5e2-8e46-4646-929f-e0140549f7cf",
   "metadata": {},
   "outputs": [
    {
     "name": "stdout",
     "output_type": "stream",
     "text": [
      "Converted to integers: [1, 2, 3]\n"
     ]
    }
   ],
   "source": [
    "# 10. Write code to demonstrate type casting with list elements.\n",
    "\n",
    "string_list = [\"1\", \"2\", \"3\"]\n",
    "int_list = list(map(int, string_list))\n",
    "print(\"Converted to integers:\", int_list)"
   ]
  },
  {
   "cell_type": "code",
   "execution_count": 3,
   "id": "c1e1728f-cadb-4b5a-95d6-000dc89a8aa0",
   "metadata": {},
   "outputs": [
    {
     "name": "stdin",
     "output_type": "stream",
     "text": [
      "Enter first number:  2560\n"
     ]
    },
    {
     "name": "stdout",
     "output_type": "stream",
     "text": [
      "Positive\n"
     ]
    }
   ],
   "source": [
    "# 11. Write a program that checks if a number is positive, negative, or zero.\n",
    "\n",
    "a = float(input(\"Enter first number: \"))\n",
    "if a > 0:\n",
    "    print(\"Positive\")\n",
    "elif a < 0:\n",
    "    print(\"Negative\")\n",
    "else:\n",
    "    print(\"Zero\")"
   ]
  },
  {
   "cell_type": "code",
   "execution_count": 7,
   "id": "a1ddb75d-440b-4a9a-a5ba-6898afe962e9",
   "metadata": {},
   "outputs": [
    {
     "name": "stdout",
     "output_type": "stream",
     "text": [
      "1 2 3 4 5 6 7 8 9 10 \n"
     ]
    }
   ],
   "source": [
    "# 12. Write a for loop to print numbers from 1 to 10.\n",
    "\n",
    "for i in range(1, 11):\n",
    "    print(i, end=\" \")\n",
    "print() "
   ]
  },
  {
   "cell_type": "code",
   "execution_count": 9,
   "id": "67252fb5-5a82-49f4-a1e4-a7ff91dbd98b",
   "metadata": {},
   "outputs": [
    {
     "name": "stdout",
     "output_type": "stream",
     "text": [
      "Sum of even numbers between 1 and 40: 420\n"
     ]
    }
   ],
   "source": [
    "# 13. Write a Python program to find the sum of all even numbers between 1 and 50.\n",
    "\n",
    "even_sum = sum(i for i in range(1, 41) \n",
    "               if i % 2 == 0)\n",
    "print(\"Sum of even numbers between 1 and 40:\", even_sum)"
   ]
  },
  {
   "cell_type": "code",
   "execution_count": 11,
   "id": "5ad519a4-c54b-435a-84fd-a7919861dcad",
   "metadata": {},
   "outputs": [
    {
     "name": "stdin",
     "output_type": "stream",
     "text": [
      "Enter a string:  pwskills\n"
     ]
    },
    {
     "name": "stdout",
     "output_type": "stream",
     "text": [
      "Reversed string: sllikswp\n"
     ]
    }
   ],
   "source": [
    "# 14. Write a program to reverse a string using a while loop.\n",
    "\n",
    "str = input(\"Enter a str: \")\n",
    "reversed_str = \"\"\n",
    "index = len(str) - 1\n",
    "while index >= 0:\n",
    "    reversed_str += str[index]\n",
    "    index -= 1\n",
    "print(\"Reversed string:\", reversed_str)"
   ]
  },
  {
   "cell_type": "code",
   "execution_count": 21,
   "id": "e4428190-11f8-4c9c-876c-6f47cf86ea9d",
   "metadata": {},
   "outputs": [
    {
     "name": "stdin",
     "output_type": "stream",
     "text": [
      "Enter a number:  23\n"
     ]
    },
    {
     "name": "stdout",
     "output_type": "stream",
     "text": [
      "Factorial of 23 is 25852016738884976640000\n"
     ]
    }
   ],
   "source": [
    "# 15. Write a Python program to calculate the factorial of a number provided by the user using a while loop.\n",
    "\n",
    "num = int(input(\"Enter a number: \"))\n",
    "fac = 1\n",
    "i = num\n",
    "while i > 0:\n",
    "    fac *= i\n",
    "    i -= 1\n",
    "print(f\"Factorial of {num} is {fac}\")"
   ]
  },
  {
   "cell_type": "code",
   "execution_count": null,
   "id": "3fa500fc-b87a-4dec-ae31-496b40c69f87",
   "metadata": {},
   "outputs": [],
   "source": []
  }
 ],
 "metadata": {
  "kernelspec": {
   "display_name": "anaconda-2024.02-py310",
   "language": "python",
   "name": "conda-env-anaconda-2024.02-py310-py"
  },
  "language_info": {
   "codemirror_mode": {
    "name": "ipython",
    "version": 3
   },
   "file_extension": ".py",
   "mimetype": "text/x-python",
   "name": "python",
   "nbconvert_exporter": "python",
   "pygments_lexer": "ipython3",
   "version": "3.10.14"
  }
 },
 "nbformat": 4,
 "nbformat_minor": 5
}
